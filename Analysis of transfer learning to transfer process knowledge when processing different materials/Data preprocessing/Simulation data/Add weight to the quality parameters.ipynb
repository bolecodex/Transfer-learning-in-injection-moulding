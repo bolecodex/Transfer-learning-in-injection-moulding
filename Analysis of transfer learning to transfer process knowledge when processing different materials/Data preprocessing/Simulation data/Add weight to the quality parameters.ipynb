{
 "cells": [
  {
   "cell_type": "code",
   "execution_count": 1,
   "metadata": {},
   "outputs": [
    {
     "ename": "FileNotFoundError",
     "evalue": "[Errno 2] No such file or directory: './3x2 Lego_001_Ergebnisübersicht.txt'",
     "output_type": "error",
     "traceback": [
      "\u001b[1;31m---------------------------------------------------------------------------\u001b[0m",
      "\u001b[1;31mFileNotFoundError\u001b[0m                         Traceback (most recent call last)",
      "\u001b[1;32m<ipython-input-1-372aa13916f5>\u001b[0m in \u001b[0;36m<module>\u001b[1;34m()\u001b[0m\n\u001b[0;32m     11\u001b[0m         \u001b[0mEingangspfad\u001b[0m \u001b[1;33m=\u001b[0m \u001b[1;34m\"./3x2 Lego_0\"\u001b[0m \u001b[1;33m+\u001b[0m \u001b[0mstr_x\u001b[0m \u001b[1;33m+\u001b[0m \u001b[1;34m\"_Ergebnisübersicht.txt\"\u001b[0m      \u001b[1;31m# An Dateinamen anpassen Ergebnis-Übersicht\u001b[0m\u001b[1;33m\u001b[0m\u001b[1;33m\u001b[0m\u001b[0m\n\u001b[0;32m     12\u001b[0m         \u001b[0mAusgangspfad\u001b[0m \u001b[1;33m=\u001b[0m \u001b[1;34m\"DOE2_0\"\u001b[0m \u001b[1;33m+\u001b[0m \u001b[0mstr_x\u001b[0m \u001b[1;33m+\u001b[0m\u001b[1;34m\".txt\"\u001b[0m                                                     \u001b[1;31m# An Dateinamen anpassen DOE-Datei\u001b[0m\u001b[1;33m\u001b[0m\u001b[1;33m\u001b[0m\u001b[0m\n\u001b[1;32m---> 13\u001b[1;33m     \u001b[0mEingang\u001b[0m \u001b[1;33m=\u001b[0m \u001b[0mopen\u001b[0m\u001b[1;33m(\u001b[0m\u001b[0mEingangspfad\u001b[0m\u001b[1;33m,\u001b[0m \u001b[1;34m'rb'\u001b[0m\u001b[1;33m)\u001b[0m\u001b[1;33m\u001b[0m\u001b[1;33m\u001b[0m\u001b[0m\n\u001b[0m\u001b[0;32m     14\u001b[0m     \u001b[0mline_num\u001b[0m \u001b[1;33m=\u001b[0m \u001b[1;36m0\u001b[0m\u001b[1;33m\u001b[0m\u001b[1;33m\u001b[0m\u001b[0m\n\u001b[0;32m     15\u001b[0m     \u001b[0msearch_phrase\u001b[0m \u001b[1;33m=\u001b[0m \u001b[1;34m\"Temperatur bei Erreichen\"\u001b[0m\u001b[1;33m\u001b[0m\u001b[1;33m\u001b[0m\u001b[0m\n",
      "\u001b[1;31mFileNotFoundError\u001b[0m: [Errno 2] No such file or directory: './3x2 Lego_001_Ergebnisübersicht.txt'"
     ]
    }
   ],
   "source": [
    "x =1\n",
    "y =65                        # Anzahl der Dateien\n",
    "while x <= y:      \n",
    "    str_x=str(x)\n",
    "    str_y=str(y)\n",
    "    \n",
    "    if x < 10:\n",
    "        Eingangspfad = \"./3x2 Lego_00\" + str_x + \"_Ergebnisübersicht.txt\"     # An Dateinamen anpassen Ergebnis-Übersicht\n",
    "        Ausgangspfad = \"DOE2_00\" + str_x +\".txt\"                                                    # An Dateinamen anpassen DOE-Datei\n",
    "    else:\n",
    "        Eingangspfad = \"./3x2 Lego_0\" + str_x + \"_Ergebnisübersicht.txt\"      # An Dateinamen anpassen Ergebnis-Übersicht\n",
    "        Ausgangspfad = \"DOE2_0\" + str_x +\".txt\"                                                     # An Dateinamen anpassen DOE-Datei\n",
    "    Eingang = open(Eingangspfad, 'rb')\n",
    "    line_num = 0\n",
    "    search_phrase = \"Temperatur bei Erreichen\"\n",
    "    for line in Eingang.readlines():\n",
    "        line_num += 1\n",
    "        if line.find(search_phrase.encode()) >= 0:\n",
    "            i = line_num\n",
    "            print(line_num)\n",
    "    Eingang.close\n",
    "    Eingang2 = open(Eingangspfad, 'rb')\n",
    "    lines = Eingang2.readlines()\n",
    "    print (lines[i-4])\n",
    "    GanzeZeile = lines[i-4]\n",
    "    Gewicht = GanzeZeile[10:20]\n",
    "    print (Gewicht)\n",
    "    Eingang2.close\n",
    "    NeueZeile =\"  3350      0        \" + Gewicht.decode() + \"                 0                 0                 0 Bauteilgewicht [g]\"\n",
    "    print (NeueZeile)\n",
    "    Ausgang = open(Ausgangspfad,'a')\n",
    "    Ausgang.writelines(NeueZeile)\n",
    "    Ausgang.close\n",
    "    print (\"Datei \" + str_x + \" von \" + str_y + \" abgeschlossen\")\n",
    "    x += 1"
   ]
  },
  {
   "cell_type": "code",
   "execution_count": 3,
   "metadata": {},
   "outputs": [],
   "source": [
    "f = open(\"./3x2 Lego_001_Ergebnisübersicht.txt\")"
   ]
  }
 ],
 "metadata": {
  "hide_input": false,
  "kernelspec": {
   "display_name": "Python 3",
   "language": "python",
   "name": "python3"
  },
  "language_info": {
   "codemirror_mode": {
    "name": "ipython",
    "version": 3
   },
   "file_extension": ".py",
   "mimetype": "text/x-python",
   "name": "python",
   "nbconvert_exporter": "python",
   "pygments_lexer": "ipython3",
   "version": "3.7.7"
  },
  "toc": {
   "base_numbering": 1,
   "nav_menu": {},
   "number_sections": true,
   "sideBar": true,
   "skip_h1_title": false,
   "title_cell": "Table of Contents",
   "title_sidebar": "Contents",
   "toc_cell": false,
   "toc_position": {},
   "toc_section_display": true,
   "toc_window_display": false
  },
  "varInspector": {
   "cols": {
    "lenName": 16,
    "lenType": 16,
    "lenVar": 40
   },
   "kernels_config": {
    "python": {
     "delete_cmd_postfix": "",
     "delete_cmd_prefix": "del ",
     "library": "var_list.py",
     "varRefreshCmd": "print(var_dic_list())"
    },
    "r": {
     "delete_cmd_postfix": ") ",
     "delete_cmd_prefix": "rm(",
     "library": "var_list.r",
     "varRefreshCmd": "cat(var_dic_list()) "
    }
   },
   "types_to_exclude": [
    "module",
    "function",
    "builtin_function_or_method",
    "instance",
    "_Feature"
   ],
   "window_display": false
  }
 },
 "nbformat": 4,
 "nbformat_minor": 2
}
