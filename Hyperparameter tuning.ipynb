{
 "cells": [
  {
   "cell_type": "markdown",
   "metadata": {},
   "source": [
    "# 1. ABOUT HYPERPARAMETERS\n",
    "Out of the three approaches to hyperparameter tuning — manual, machine-assisted, and algorithmic — this tutorial will focus on machine-assisted hyperparameter tuning. \n",
    "\n",
    "**Learning rate**\n",
    "Learning rate controls how much to update the weight in the optimization algorithm. We can use a fixed learning rate, a gradually decreasing learning rate, momentum-based methods or adaptive learning rates. This depends on our choice of optimizer such as SGD, Adam, Adagrad, AdaDelta or RMSProp. The **mother of all hyperparameters**, the learning rate, quantifies the learning progress of a model in a way that can be used to optimize its capacity.\n",
    "\n",
    "**Convolution Kernel Width** \n",
    "In Convolutional Neural Networks (CNNs), the Kernel Width influences the number of parameters in a model which, in turns, influences its capacity.\n",
    "\n",
    "**Momentum** \n",
    "Learns the direction of the next step using the knowledge of the previous steps. It helps to prevent oscillations.\n",
    "\n",
    "**Number of epochs**\n",
    "Number of epochs is the the number of times the entire training set passes through the neural network. One should increase the number of epochs until there is small gap between the test error and the training error.\n",
    "\n",
    "**Batch size**\n",
    "Mini batch size is the number of sub samples given to the network after which the parameter update happens. \n",
    "\n",
    "**Activation function**\n",
    "The activation funtion introduces non-linearity to the model. Usually, rectifier works well. Other alternatives are sigmoid, tanh, and other activation functions depening on the task.\n",
    "\n",
    "**Number of hidden layers and units**\n",
    "The number of hidden units is key to regulate the representational capacity of a model. Add more layers until the test error no longer improves, however computationally expensive to train the network. Having a small amount of units may lead to underfitting while having more units are usually not harmful with appropriate regularization. \n",
    "\n",
    "**Weight initialization**\n",
    "We should initialize the weights with small random numbers to prevent dead neurons, but not too small to avoid zero gradient. Uniform distribution usually works well.\n",
    "\n",
    "**Dropout for regularization**\n",
    "Dropout is a preferable regularization technique to avoid overfitting in deep neural networks. The method simply drops out units in neural network according to the desired probability. A default value of 0.5 is a good choice to test with."
   ]
  },
  {
   "cell_type": "markdown",
   "metadata": {},
   "source": [
    "## 1.1 Overview\n",
    "Below is a list of the topics we are going to cover:\n",
    "\n",
    "### Part 1: Grid Search Hyperparameter Tuning\n",
    "- How to use Keras models in scikit-learn.\n",
    "- How to use grid search in scikit-learn.\n",
    "- How to tune: \n",
    "    - batch size and training epochs\n",
    "    - optimization algorithms\n",
    "    - learning rate and momentum.\n",
    "    - network weight initialization\n",
    "    - activation functions\n",
    "    - dropout regularization\n",
    "    - number of neurons in the hidden layer.\n",
    "    \n",
    "### Part 2: Bayesian Optimization for Hyperparameter Tuning\n",
    "- How to use Bayesian optimizations on hyperparameters of a Gradient Boosting Machine (lightgbm)\n",
    "- How to use the Hyperopt library for Bayesian optimization\n",
    "- How to compare Random Search to Bayesian optimization for hyperparameter tuning\n",
    "- How to visualize Bayesian vs Random search optimization"
   ]
  },
  {
   "cell_type": "markdown",
   "metadata": {},
   "source": [
    "## 1.2 How to Use Keras Models in scikit-learn\n",
    "Keras models can be used in scikit-learn by wrapping them with the KerasClassifier or KerasRegressor class.\n",
    "\n",
    "To use these wrappers you must define a function that creates and returns your Keras sequential model, then pass this function to the build_fn argument when constructing the KerasClassifier class. For example:"
   ]
  },
  {
   "cell_type": "code",
   "execution_count": 2,
   "metadata": {},
   "outputs": [],
   "source": [
    "def model():\n",
    "    \"\"\"A whole bunch of model junk\"\"\"\n",
    "    return model\n",
    "\n",
    "# model = KerasClassifier(build_fn=create_model)\n",
    "model = KerasRegressor(\n",
    "    build_fn=model, \n",
    "    nb_epoch=300, \n",
    "    batch_size=30,\n",
    "    verbose=1\n",
    ")"
   ]
  },
  {
   "cell_type": "markdown",
   "metadata": {},
   "source": [
    "# 2. HYPERPARAMETER TUNING\n",
    "\n",
    "Manually tuning hyperparameters impractical. There are two generic approaches to sampling search candidates. \n",
    "\n",
    "**Random search** samples a given number of candidates from a parameter space with a specified distribution. Although **grid search** is useful in many machine learning algoirthms, it **is not efficient** in tuning hyperparamters for deep neural networks because, as the number of parameters increases, computation grows exponentially. **Random search has been found more efficient compared to grid search** in hyperparameter tuning for deep neural network (see “Random Search for Hyper-Parameter Optimization”). \n",
    "\n",
    "**Grid search** is a model hyperparameter optimization technique that exhaustively searches all parameter combinations for given values. In scikit-learn this technique is provided in the GridSearchCV class. When constructing this class you must provide a dictionary of hyperparameters to evaluate in the **param_grid** argument. \n",
    "\n",
    "- param_grid = dict(epochs=[10,20,30])\n",
    "- grid = GridSearchCV(estimator=model, param_grid=param_grid, n_jobs=-1)\n",
    "- grid_result = grid.fit(X, y)\n",
    "\n",
    "To implement grid search more efficiently, start with broad ranges of hyperparameter values. Consider performing a coarse grid search for smaller number of epochs or smaller training set. At the next stage, perform a narrower search with more epochs or a larger part of the training set."
   ]
  },
  {
   "cell_type": "markdown",
   "metadata": {},
   "source": [
    "By default, accuracy is the score that is optimized, but other scores can be specified in the score argument of the GridSearchCV constructor.\n",
    "\n",
    "By default, the grid search will only use one thread思路. By setting the n_jobs argument in the GridSearchCV constructor to -1, the process will use all cores on your machine. Depending on your Keras backend, this may interfere with the main neural network training process.\n",
    "\n",
    "The GridSearchCV process will then construct and evaluate one model for each combination of parameters. Cross validation is used to evaluate each individual model and the default of 3-fold cross validation is used, although this can be overridden by specifying the cv argument to the GridSearchCV constructor. Once completed, you can access the outcome of the grid search in the result object returned from grid.fit(). The best_score_ member provides access to the best score observed during the optimization procedure and the best_params_ describes the combination of parameters that achieved the best results."
   ]
  },
  {
   "cell_type": "markdown",
   "metadata": {
    "heading_collapsed": true
   },
   "source": [
    "## Install/Import Python Packages"
   ]
  },
  {
   "cell_type": "code",
   "execution_count": 1,
   "metadata": {
    "hidden": true
   },
   "outputs": [
    {
     "name": "stderr",
     "output_type": "stream",
     "text": [
      "/opt/miniconda3/lib/python3.7/site-packages/sklearn/externals/joblib/__init__.py:15: FutureWarning: sklearn.externals.joblib is deprecated in 0.21 and will be removed in 0.23. Please import this functionality directly from joblib, which can be installed with: pip install joblib. If this warning is raised when loading pickled models, you may need to re-serialize those models with scikit-learn 0.21+.\n",
      "  warnings.warn(msg, category=FutureWarning)\n",
      "Using TensorFlow backend.\n"
     ]
    }
   ],
   "source": [
    "#Standard packages\n",
    "import pandas as pd\n",
    "import numpy as np\n",
    "import seaborn as sns\n",
    "\n",
    "#Machine learning packages\n",
    "from sklearn.svm import SVC, SVR\n",
    "from sklearn.model_selection import GridSearchCV, RandomizedSearchCV, ParameterGrid, cross_val_score, cross_val_predict, train_test_split, KFold, StratifiedKFold\n",
    "from sklearn import datasets, linear_model, metrics, preprocessing, pipeline\n",
    "from sklearn.pipeline import make_union, make_pipeline, Pipeline, FeatureUnion\n",
    "from sklearn.linear_model import LogisticRegression, LassoCV, RidgeCV\n",
    "from sklearn.tree import DecisionTreeClassifier, DecisionTreeRegressor, export_graphviz\n",
    "from sklearn.ensemble import RandomForestClassifier, RandomForestRegressor, ExtraTreesClassifier, ExtraTreesRegressor, BaggingClassifier, BaggingRegressor, AdaBoostClassifier, AdaBoostRegressor, GradientBoostingClassifier, GradientBoostingRegressor, RandomForestClassifier, RandomForestRegressor, VotingClassifier\n",
    "from sklearn.metrics import mean_squared_error, classification_report, confusion_matrix, accuracy_score, r2_score, log_loss, make_scorer, get_scorer, f1_score, auc, roc_auc_score, roc_curve, precision_score, recall_score, precision_recall_curve\n",
    "from sklearn.neighbors import KNeighborsClassifier\n",
    "from sklearn.externals import joblib\n",
    "import xgboost\n",
    "from tensorflow.keras.wrappers.scikit_learn import KerasRegressor\n",
    "#Deep Learning packages\n",
    "import tensorflow\n",
    "import keras\n",
    "from keras.models import Sequential\n",
    "from keras.wrappers.scikit_learn import KerasClassifier\n",
    "from sklearn.datasets import make_classification, make_circles\n",
    "from keras.datasets import mnist\n",
    "from keras.layers import Dense, Dropout, Activation, Flatten, Conv2D, MaxPooling2D\n",
    "from keras.initializers import RandomUniform\n",
    "\n",
    "#Plotting and Display\n",
    "import matplotlib.pyplot as plt\n",
    "pd.options.display.max_rows = 999\n",
    "pd.options.display.max_columns = 999\n",
    "\n",
    "#Reproducibility\n",
    "np.random.seed(42)"
   ]
  },
  {
   "cell_type": "markdown",
   "metadata": {},
   "source": [
    "## 2.1 Grid Search, Right Quick"
   ]
  },
  {
   "cell_type": "markdown",
   "metadata": {},
   "source": [
    "### 2.1.1 Generate Target And Feature Data"
   ]
  },
  {
   "cell_type": "code",
   "execution_count": 4,
   "metadata": {},
   "outputs": [],
   "source": [
    "# Number of features\n",
    "number_of_features = 100\n",
    "\n",
    "# Generate features matrix and target vector\n",
    "features, target = make_classification(n_samples = 10000,\n",
    "                                       n_features = number_of_features,\n",
    "                                       n_informative = 3,\n",
    "                                       n_redundant = 0,\n",
    "                                       n_classes = 2,\n",
    "                                       weights = [.5, .5],\n",
    "                                       random_state = 0)"
   ]
  },
  {
   "cell_type": "markdown",
   "metadata": {},
   "source": [
    "### 2.1.2 Create a Function That Constructs A Neural Network"
   ]
  },
  {
   "cell_type": "code",
   "execution_count": 8,
   "metadata": {},
   "outputs": [],
   "source": [
    "# Create function returning a compiled network\n",
    "def create_network(optimizer='rmsprop'):\n",
    "    \n",
    "    # Start neural network\n",
    "    network = Sequential()\n",
    "\n",
    "    # Add fully connected layer with a ReLU activation function\n",
    "    network.add(Dense(units=16, activation='relu', input_shape=(number_of_features,)))\n",
    "\n",
    "    # Add fully connected layer with a ReLU activation function\n",
    "    network.add(Dense(units=16, activation='relu'))\n",
    "\n",
    "    # Add fully connected layer with a sigmoid activation function\n",
    "    network.add(Dense(units=1, activation='sigmoid'))\n",
    "\n",
    "    # Compile neural network\n",
    "    network.compile(loss='binary_crossentropy', # Cross-entropy\n",
    "                    optimizer=optimizer, # Optimizer\n",
    "                    metrics=['accuracy']) # Accuracy performance metric\n",
    "    \n",
    "    # Return compiled network\n",
    "    return network"
   ]
  },
  {
   "cell_type": "markdown",
   "metadata": {},
   "source": [
    "### 2.1.3 Wrap Function In KerasClassifier"
   ]
  },
  {
   "cell_type": "code",
   "execution_count": 9,
   "metadata": {},
   "outputs": [],
   "source": [
    "# Wrap Keras model so it can be used by scikit-learn\n",
    "neural_network = KerasClassifier(build_fn=create_network, verbose=0)"
   ]
  },
  {
   "cell_type": "markdown",
   "metadata": {},
   "source": [
    "### 2.1.4 Create Hyperparameter Search Space"
   ]
  },
  {
   "cell_type": "code",
   "execution_count": 10,
   "metadata": {},
   "outputs": [],
   "source": [
    "# Create hyperparameter space\n",
    "epochs = [5, 10]\n",
    "batches = [5, 10, 100]#8,12,16\n",
    "optimizers = ['rmsprop', 'adam']\n",
    "\n",
    "# Create hyperparameter options\n",
    "hyperparameters = dict(optimizer=optimizers, epochs=epochs, batch_size=batches)"
   ]
  },
  {
   "cell_type": "markdown",
   "metadata": {},
   "source": [
    "### 2.1.5 Conduct Grid Search"
   ]
  },
  {
   "cell_type": "code",
   "execution_count": 11,
   "metadata": {},
   "outputs": [
    {
     "name": "stderr",
     "output_type": "stream",
     "text": [
      "e:\\miniconda3\\lib\\site-packages\\sklearn\\model_selection\\_split.py:2053: FutureWarning: You should specify a value for 'cv' instead of relying on the default value. The default value will change from 3 to 5 in version 0.22.\n",
      "  warnings.warn(CV_WARNING, FutureWarning)\n"
     ]
    }
   ],
   "source": [
    "# Create grid search\n",
    "grid = GridSearchCV(estimator=neural_network, param_grid=hyperparameters)\n",
    "\n",
    "# Fit grid search\n",
    "grid_result = grid.fit(features, target)"
   ]
  },
  {
   "cell_type": "markdown",
   "metadata": {},
   "source": [
    "### 2.1.6 Find Best Model’s Hyperparameters"
   ]
  },
  {
   "cell_type": "code",
   "execution_count": 12,
   "metadata": {},
   "outputs": [
    {
     "data": {
      "text/plain": [
       "{'batch_size': 10, 'epochs': 5, 'optimizer': 'adam'}"
      ]
     },
     "execution_count": 12,
     "metadata": {},
     "output_type": "execute_result"
    }
   ],
   "source": [
    "# View hyperparameters of best neural network\n",
    "grid_result.best_params_"
   ]
  },
  {
   "cell_type": "code",
   "execution_count": 14,
   "metadata": {},
   "outputs": [
    {
     "data": {
      "text/plain": [
       "0.9321999923586846"
      ]
     },
     "execution_count": 14,
     "metadata": {},
     "output_type": "execute_result"
    }
   ],
   "source": [
    "grid_result.best_score_"
   ]
  },
  {
   "cell_type": "markdown",
   "metadata": {},
   "source": [
    "# Tuning Process"
   ]
  },
  {
   "cell_type": "code",
   "execution_count": 2,
   "metadata": {},
   "outputs": [
    {
     "name": "stdout",
     "output_type": "stream",
     "text": [
      "Number of materials for training = 801, Number of features = 50\n",
      "\n"
     ]
    }
   ],
   "source": [
    "df_APEC_total = pd.read_excel('./data/df_APEC_total.xlsx',index_col=0).fillna(0)\n",
    "data = df_APEC_total\n",
    "train_dataset = data.sample(frac=0.8,random_state=42)\n",
    "test_dataset = data.drop(train_dataset.index)\n",
    "\n",
    "train_stats = train_dataset.describe()\n",
    "train_stats = train_stats.drop(['Part weight','Length','Angle', 'Height', 'Width'], axis=1)\n",
    "train_stats = train_stats.transpose()\n",
    "train_labels = train_dataset[['Part weight']]\n",
    "test_labels = test_dataset[['Part weight']]\n",
    "\n",
    "def norm(x):\n",
    "    return (x - train_stats['mean']) / train_stats['std'] #zero-mean normalization, same with sklearn.preprocessing.StandardScaler\n",
    "train_dataset = train_dataset.drop(['Part weight','Length','Angle','Height', 'Width'], axis=1)\n",
    "test_dataset = test_dataset.drop(['Part weight','Length','Angle','Height', 'Width'], axis=1)\n",
    "normed_train_data = norm(train_dataset)\n",
    "normed_test_data = norm(test_dataset)\n",
    "\n",
    "X_train = normed_train_data.fillna(0)\n",
    "X_test = normed_test_data.fillna(0)\n",
    "y_train = train_labels.values\n",
    "y_test = test_labels.values\n",
    "\n",
    "x = np.array(X_train, dtype=np.float)\n",
    "y = np.array(y_train, dtype=np.float)\n",
    "X_train = x.astype(float)\n",
    "y_train = y.astype(float)\n",
    "# fix random seed for reproducibility\n",
    "seed = 42\n",
    "np.random.seed(seed)\n",
    "mol_num, feat_num = X_train.shape\n",
    "print(\"Number of materials for training = %i, Number of features = %i\\n\" % (mol_num, feat_num))\n",
    "def r2_keras(y_true, y_pred):\n",
    "    SS_res =  K.sum(K.square( y_true - y_pred )) \n",
    "    SS_tot = K.sum(K.square( y_true - K.mean(y_true) ) ) \n",
    "    return ( 1 - SS_res/(SS_tot + K.epsilon()) )"
   ]
  },
  {
   "cell_type": "markdown",
   "metadata": {},
   "source": [
    "## 2.2 Detailed Hyperparameter Tuning"
   ]
  },
  {
   "cell_type": "markdown",
   "metadata": {},
   "source": [
    "### 2.2.1 Tune Batch Size and Number of Epochs\n",
    "The batch size in iterative gradient descent is the number of patterns shown to the network before the weights are updated. It is also an optimization in the training of the network, defining how many patterns to read at a time and keep in memory.\n",
    "\n",
    "The number of epochs is the number of times that the entire training dataset is shown to the network during training. Some networks are sensitive to the batch size, such as LSTM recurrent neural networks and Convolutional Neural Networks. We will evaluate a suite of different mini batch sizes from 10 to 100 in steps of 20.\n",
    "\n",
    "**Result**: We can see that the batch size of 20 and 100 epochs achieved the best result of about 68% accuracy."
   ]
  },
  {
   "cell_type": "code",
   "execution_count": 3,
   "metadata": {},
   "outputs": [
    {
     "name": "stdout",
     "output_type": "stream",
     "text": [
      "Best: 0.912470 using {'batch_size': 150, 'epochs': 300}\n",
      "0.876630 (0.015176) with: {'batch_size': 10, 'epochs': 300}\n",
      "0.865758 (0.071278) with: {'batch_size': 50, 'epochs': 300}\n",
      "0.747206 (0.158582) with: {'batch_size': 100, 'epochs': 300}\n",
      "0.912470 (0.001007) with: {'batch_size': 150, 'epochs': 300}\n",
      "0.896324 (0.019961) with: {'batch_size': 200, 'epochs': 300}\n"
     ]
    }
   ],
   "source": [
    "# Use scikit-learn to grid search the batch size and epochs\n",
    "import numpy\n",
    "from sklearn.model_selection import GridSearchCV\n",
    "from tensorflow.keras.models import Sequential\n",
    "from tensorflow.keras.layers import Dense\n",
    "from tensorflow.keras.wrappers.scikit_learn import KerasRegressor\n",
    "from tensorflow.keras import backend as K\n",
    "\n",
    "def create_model():\n",
    "    net = Sequential()\n",
    "    net.add(Dense(50, input_dim=feat_num, kernel_initializer='normal', activation='relu'))\n",
    "    net.add(Dense(25, kernel_initializer='normal', activation='relu'))\n",
    "    net.add(Dense(10, kernel_initializer='normal', activation='relu'))\n",
    "    net.add(Dense(1, kernel_initializer='normal'))\n",
    "    # compile this model\n",
    "    net.compile(loss='mean_absolute_error', # one may use 'mean_absolute_error' as alternative\n",
    "                  optimizer='adam',\n",
    "                  metrics=[r2_keras] # you can add several if needed\n",
    "                 )\n",
    "    return net\n",
    "\n",
    "# create model\n",
    "model = KerasRegressor(\n",
    "    build_fn=create_model, \n",
    "    verbose=0\n",
    ")\n",
    "\n",
    "# define the grid search parameters\n",
    "batch_size = [10, 50, 100, 150, 200]\n",
    "epochs = [300]\n",
    "param_grid = dict(batch_size=batch_size, epochs=epochs)\n",
    "grid = GridSearchCV(estimator=model, param_grid=param_grid, scoring='r2',cv=2)\n",
    "grid_result = grid.fit(X_train, y_train)\n",
    "\n",
    "# summarize results\n",
    "print(\"Best: %f using %s\" % (grid_result.best_score_, grid_result.best_params_))\n",
    "means = grid_result.cv_results_['mean_test_score']\n",
    "stds = grid_result.cv_results_['std_test_score']\n",
    "params = grid_result.cv_results_['params']\n",
    "\n",
    "for mean, stdev, param in zip(means, stds, params):\n",
    "    print(\"%f (%f) with: %r\" % (mean, stdev, param))"
   ]
  },
  {
   "cell_type": "markdown",
   "metadata": {},
   "source": [
    "### 2.2.2 Tune the Training Optimization Algorithm\n",
    "Keras offers a suite of different state-of-the-art optimization algorithms.\n",
    "Here, we tune the optimization algorithm used to train the network, each with default parameters."
   ]
  },
  {
   "cell_type": "code",
   "execution_count": 4,
   "metadata": {},
   "outputs": [
    {
     "name": "stdout",
     "output_type": "stream",
     "text": [
      "Best: 0.919902 using {'optimizer': 'Adam'}\n",
      "-38.144256 (1.779182) with: {'optimizer': 'SGD'}\n",
      "0.480141 (0.026124) with: {'optimizer': 'RMSprop'}\n",
      "-1691.879831 (148.768536) with: {'optimizer': 'Adagrad'}\n",
      "-2626.417978 (61.124426) with: {'optimizer': 'Adadelta'}\n",
      "0.919902 (0.013206) with: {'optimizer': 'Adam'}\n",
      "0.909336 (0.013474) with: {'optimizer': 'Adamax'}\n",
      "0.793662 (0.010069) with: {'optimizer': 'Nadam'}\n"
     ]
    }
   ],
   "source": [
    "def create_model(optimizer = 'Adam'):\n",
    "    net = Sequential()\n",
    "    net.add(Dense(50, input_dim=feat_num, kernel_initializer='normal', activation='relu'))\n",
    "    net.add(Dense(25, kernel_initializer='normal', activation='relu'))\n",
    "    net.add(Dense(10, kernel_initializer='normal', activation='relu'))\n",
    "    net.add(Dense(1, kernel_initializer='normal'))\n",
    "    \n",
    "    # compile this model\n",
    "    net.compile(loss='mean_absolute_error',\n",
    "                  optimizer=optimizer,\n",
    "                  metrics=[r2_keras]\n",
    "                 )\n",
    "\n",
    "    return net\n",
    "\n",
    "# create model\n",
    "model = KerasRegressor(build_fn=create_model, epochs=300, batch_size=150, verbose=0)\n",
    "\n",
    "# define the grid search parameters\n",
    "optimizer = ['SGD', 'RMSprop', 'Adagrad', 'Adadelta', 'Adam', 'Adamax', 'Nadam']\n",
    "param_grid = dict(optimizer=optimizer)\n",
    "grid = GridSearchCV(estimator=model, param_grid=param_grid, n_jobs=-1,scoring='r2',cv=2)\n",
    "grid_result = grid.fit(X_train, y_train)\n",
    "\n",
    "# summarize results\n",
    "print(\"Best: %f using %s\" % (grid_result.best_score_, grid_result.best_params_))\n",
    "means = grid_result.cv_results_['mean_test_score']\n",
    "stds = grid_result.cv_results_['std_test_score']\n",
    "params = grid_result.cv_results_['params']\n",
    "\n",
    "for mean, stdev, param in zip(means, stds, params):\n",
    "    print(\"%f (%f) with: %r\" % (mean, stdev, param))"
   ]
  },
  {
   "cell_type": "markdown",
   "metadata": {},
   "source": [
    "### 2.2.1 Tune Learning Rate and Momentum\n",
    "Pre-select an optimization algorithm to train your network and tune its parameters. The most common optimization algorithm is Stochastic Gradient Descent (SGD). Here, we optimize the SGD learning rate and momentum parameters.\n",
    "\n",
    "Learning rate controls how much to update the weight at the end of each batch. The momentum controls how much to let the previous update influence the current weight update.\n",
    "\n",
    "First, we will try a range of small standard learning rates and a momentum values from 0.2 to 0.8 in steps of 0.2 and 0.9.\n",
    "\n",
    "Include the number of epochs in an optimization like this because there is a dependency between the amount of learning per batch (learning rate), the number of updates per epoch (batch size) and the number of epochs."
   ]
  },
  {
   "cell_type": "code",
   "execution_count": 6,
   "metadata": {},
   "outputs": [
    {
     "name": "stdout",
     "output_type": "stream",
     "text": [
      "Best: 0.915163 using {'learn_rate': 0.001}\n",
      "0.915163 (0.002663) with: {'learn_rate': 0.001}\n",
      "0.797625 (0.006874) with: {'learn_rate': 0.01}\n",
      "-5.682463 (4.140839) with: {'learn_rate': 0.1}\n",
      "-6.028000 (1.308491) with: {'learn_rate': 0.2}\n",
      "-0.009291 (0.009272) with: {'learn_rate': 0.3}\n"
     ]
    }
   ],
   "source": [
    "from tensorflow.keras.optimizers import Adam\n",
    "def create_model(learn_rate=0.01):\n",
    "    net = Sequential()\n",
    "    net.add(Dense(50, input_dim=feat_num, kernel_initializer='normal', activation='relu'))\n",
    "    net.add(Dense(25, kernel_initializer='normal', activation='relu'))\n",
    "    net.add(Dense(10, kernel_initializer='normal', activation='relu'))\n",
    "    net.add(Dense(1, kernel_initializer='normal'))\n",
    "    optimizer = Adam(lr=learn_rate)\n",
    "    # compile this model\n",
    "    net.compile(loss='mean_absolute_error',\n",
    "                  optimizer=optimizer,\n",
    "                  metrics=[r2_keras]\n",
    "                 )\n",
    "    return net\n",
    "\n",
    "# create model\n",
    "model = KerasRegressor(build_fn=create_model, epochs=300, batch_size=150, verbose=0)\n",
    "# define the grid search parameters\n",
    "learn_rate = [0.001, 0.01, 0.1, 0.2, 0.3]\n",
    "\n",
    "param_grid = dict(learn_rate=learn_rate)\n",
    "grid = GridSearchCV(estimator=model, param_grid=param_grid, n_jobs=-1,scoring='r2',cv=2)\n",
    "grid_result = grid.fit(X_train, y_train)\n",
    "\n",
    "# summarize results\n",
    "print(\"Best: %f using %s\" % (grid_result.best_score_, grid_result.best_params_))\n",
    "means = grid_result.cv_results_['mean_test_score']\n",
    "stds = grid_result.cv_results_['std_test_score']\n",
    "params = grid_result.cv_results_['params']\n",
    "\n",
    "for mean, stdev, param in zip(means, stds, params):\n",
    "    print(\"%f (%f) with: %r\" % (mean, stdev, param))"
   ]
  },
  {
   "cell_type": "markdown",
   "metadata": {},
   "source": [
    "### 2.2.1 Tune Network Weight Initialization\n",
    "We tune the selection of network weight initialization by evaluating all of the available techniques.\n",
    "\n",
    "We will use the same weight initialization method on each layer. It may be better to use different weight initialization schemes according to the activation function used on each layer. In the example below we use rectifier for the hidden layer. We use sigmoid for the output layer because the predictions are binary."
   ]
  },
  {
   "cell_type": "code",
   "execution_count": 8,
   "metadata": {},
   "outputs": [
    {
     "name": "stdout",
     "output_type": "stream",
     "text": [
      "Best: 0.949018 using {'init_mode': 'glorot_uniform'}\n",
      "0.914193 (0.007762) with: {'init_mode': 'uniform'}\n",
      "0.937584 (0.008559) with: {'init_mode': 'lecun_uniform'}\n",
      "0.931289 (0.006615) with: {'init_mode': 'normal'}\n",
      "-2549.191762 (59.352398) with: {'init_mode': 'zero'}\n",
      "0.935371 (0.004504) with: {'init_mode': 'glorot_normal'}\n",
      "0.949018 (0.001734) with: {'init_mode': 'glorot_uniform'}\n",
      "0.942498 (0.003234) with: {'init_mode': 'he_normal'}\n",
      "0.948605 (0.007488) with: {'init_mode': 'he_uniform'}\n"
     ]
    }
   ],
   "source": [
    "def create_model(init_mode='normal'):\n",
    "    net = Sequential()\n",
    "    net.add(Dense(50, input_dim=feat_num, kernel_initializer=init_mode, activation='relu'))\n",
    "    net.add(Dense(25, kernel_initializer=init_mode, activation='relu'))\n",
    "    net.add(Dense(10, kernel_initializer=init_mode, activation='relu'))\n",
    "    net.add(Dense(1, kernel_initializer=init_mode))\n",
    "    # compile this model\n",
    "    net.compile(loss='mean_absolute_error', \n",
    "                  optimizer='adam',\n",
    "                  metrics=[r2_keras]\n",
    "                 )\n",
    "    return net\n",
    "\n",
    "# create model\n",
    "model = KerasRegressor(build_fn=create_model, epochs=300, batch_size=150, verbose=0)\n",
    "\n",
    "# define the grid search parameters\n",
    "init_mode = ['uniform', 'lecun_uniform', 'normal', 'zero', 'glorot_normal', 'glorot_uniform', 'he_normal', 'he_uniform']\n",
    "param_grid = dict(init_mode=init_mode)\n",
    "grid = GridSearchCV(estimator=model, param_grid=param_grid, n_jobs=-1,scoring='r2',cv=2)\n",
    "grid_result = grid.fit(X_train, y_train)\n",
    "\n",
    "# summarize results\n",
    "print(\"Best: %f using %s\" % (grid_result.best_score_, grid_result.best_params_))\n",
    "means = grid_result.cv_results_['mean_test_score']\n",
    "stds = grid_result.cv_results_['std_test_score']\n",
    "params = grid_result.cv_results_['params']\n",
    "\n",
    "for mean, stdev, param in zip(means, stds, params):\n",
    "    print(\"%f (%f) with: %r\" % (mean, stdev, param))"
   ]
  },
  {
   "cell_type": "markdown",
   "metadata": {},
   "source": [
    "### 2.2.1 Tune the Neuron Activation Function\n",
    "The activation function controls the non-linearity of individual neurons and when to fire.\n",
    "\n",
    "Generally, the rectifier activation function is the most popular, but it used to be the sigmoid and the tanh functions and these functions may still be more suitable for different problems.\n",
    "\n",
    "In this example, we will evaluate the suite of different activation functions available in Keras. We will only use these functions in the hidden layer, as we require a sigmoid activation function in the output for the binary classification problem.\n",
    "\n",
    "Generally, it is a good idea to prepare data to the range of the different transfer functions, which we will not do in this case."
   ]
  },
  {
   "cell_type": "code",
   "execution_count": 9,
   "metadata": {
    "scrolled": true
   },
   "outputs": [
    {
     "name": "stdout",
     "output_type": "stream",
     "text": [
      "Best: 0.946451 using {'activation': 'softplus'}\n",
      "-2403.637573 (62.577298) with: {'activation': 'softmax'}\n",
      "0.946451 (0.001707) with: {'activation': 'softplus'}\n",
      "-1510.902820 (92.599545) with: {'activation': 'softsign'}\n",
      "0.936178 (0.009662) with: {'activation': 'relu'}\n",
      "-1446.382356 (57.987487) with: {'activation': 'tanh'}\n",
      "-1705.264945 (160.803576) with: {'activation': 'sigmoid'}\n",
      "-2096.795019 (14.886832) with: {'activation': 'hard_sigmoid'}\n",
      "0.835198 (0.029097) with: {'activation': 'linear'}\n"
     ]
    }
   ],
   "source": [
    "def create_model(activation='relu'):\n",
    "    net = Sequential()\n",
    "    net.add(Dense(50, input_dim=feat_num, kernel_initializer='glorot_uniform', activation=activation))\n",
    "    net.add(Dense(25, kernel_initializer='glorot_uniform', activation=activation))\n",
    "    net.add(Dense(10, kernel_initializer='glorot_uniform', activation=activation))\n",
    "    net.add(Dense(1, kernel_initializer='glorot_uniform'))\n",
    "    # compile this model\n",
    "    net.compile(loss='mean_absolute_error', \n",
    "                  optimizer='adam',\n",
    "                  metrics=[r2_keras]\n",
    "                 )\n",
    "    return net\n",
    "\n",
    "# create model\n",
    "model = KerasRegressor(build_fn=create_model, epochs=300, batch_size=150, verbose=0)\n",
    "\n",
    "\n",
    "# define the grid search parameters\n",
    "activation = ['softmax', 'softplus', 'softsign', 'relu', 'tanh', 'sigmoid', 'hard_sigmoid', 'linear']\n",
    "param_grid = dict(activation=activation)\n",
    "grid = GridSearchCV(estimator=model, param_grid=param_grid, n_jobs=-1,scoring='r2',cv=2)\n",
    "grid_result = grid.fit(X_train, y_train)\n",
    "\n",
    "# summarize results\n",
    "print(\"Best: %f using %s\" % (grid_result.best_score_, grid_result.best_params_))\n",
    "means = grid_result.cv_results_['mean_test_score']\n",
    "stds = grid_result.cv_results_['std_test_score']\n",
    "params = grid_result.cv_results_['params']\n",
    "\n",
    "for mean, stdev, param in zip(means, stds, params):\n",
    "    print(\"%f (%f) with: %r\" % (mean, stdev, param))"
   ]
  },
  {
   "cell_type": "markdown",
   "metadata": {},
   "source": [
    "### 2.2.1 Tune Dropout Regularization\n",
    "In this example, we will look at tuning the dropout rate for regularization in an effort to limit overfitting and improve the model’s ability to generalize.\n",
    "\n",
    "To get good results, dropout is best combined with a weight constraint such as the max norm constraint.\n",
    "This involves fitting both the dropout percentage and the weight constraint. We will try dropout percentages between 0.0 and 0.9 (1.0 does not make sense) and maxnorm weight constraint values between 0 and 5."
   ]
  },
  {
   "cell_type": "code",
   "execution_count": 11,
   "metadata": {},
   "outputs": [
    {
     "name": "stderr",
     "output_type": "stream",
     "text": [
      "/opt/miniconda3/lib/python3.7/site-packages/joblib/externals/loky/process_executor.py:706: UserWarning: A worker stopped while some jobs were given to the executor. This can be caused by a too short worker timeout or by a memory leak.\n",
      "  \"timeout or by a memory leak.\", UserWarning\n"
     ]
    },
    {
     "name": "stdout",
     "output_type": "stream",
     "text": [
      "Best: 0.963363 using {'dropout_rate': 0.0, 'weight_constraint': 4}\n",
      "0.955086 (0.008820) with: {'dropout_rate': 0.0, 'weight_constraint': 1}\n",
      "0.960956 (0.001886) with: {'dropout_rate': 0.0, 'weight_constraint': 2}\n",
      "0.953183 (0.006294) with: {'dropout_rate': 0.0, 'weight_constraint': 3}\n",
      "0.963363 (0.006454) with: {'dropout_rate': 0.0, 'weight_constraint': 4}\n",
      "0.960561 (0.001802) with: {'dropout_rate': 0.0, 'weight_constraint': 5}\n",
      "-17.648935 (2.320878) with: {'dropout_rate': 0.1, 'weight_constraint': 1}\n",
      "-8.331620 (4.779226) with: {'dropout_rate': 0.1, 'weight_constraint': 2}\n",
      "-3.432321 (0.305546) with: {'dropout_rate': 0.1, 'weight_constraint': 3}\n",
      "-3.046291 (0.790028) with: {'dropout_rate': 0.1, 'weight_constraint': 4}\n",
      "-8.288844 (3.023236) with: {'dropout_rate': 0.1, 'weight_constraint': 5}\n",
      "-10.571475 (1.299413) with: {'dropout_rate': 0.2, 'weight_constraint': 1}\n",
      "-12.361010 (1.181767) with: {'dropout_rate': 0.2, 'weight_constraint': 2}\n",
      "-9.697801 (0.580042) with: {'dropout_rate': 0.2, 'weight_constraint': 3}\n",
      "-12.467626 (2.019221) with: {'dropout_rate': 0.2, 'weight_constraint': 4}\n",
      "-9.075804 (2.145833) with: {'dropout_rate': 0.2, 'weight_constraint': 5}\n",
      "-14.661071 (9.372477) with: {'dropout_rate': 0.3, 'weight_constraint': 1}\n",
      "-21.705010 (1.963680) with: {'dropout_rate': 0.3, 'weight_constraint': 2}\n",
      "-28.584944 (2.392761) with: {'dropout_rate': 0.3, 'weight_constraint': 3}\n",
      "-41.808683 (0.515930) with: {'dropout_rate': 0.3, 'weight_constraint': 4}\n",
      "-23.270424 (3.296994) with: {'dropout_rate': 0.3, 'weight_constraint': 5}\n",
      "-63.083000 (14.243931) with: {'dropout_rate': 0.4, 'weight_constraint': 1}\n",
      "-58.750558 (17.251188) with: {'dropout_rate': 0.4, 'weight_constraint': 2}\n",
      "-67.384465 (22.569282) with: {'dropout_rate': 0.4, 'weight_constraint': 3}\n",
      "-72.857018 (0.459529) with: {'dropout_rate': 0.4, 'weight_constraint': 4}\n",
      "-54.226580 (3.108253) with: {'dropout_rate': 0.4, 'weight_constraint': 5}\n",
      "-108.334856 (10.490168) with: {'dropout_rate': 0.5, 'weight_constraint': 1}\n",
      "-94.847178 (23.246863) with: {'dropout_rate': 0.5, 'weight_constraint': 2}\n",
      "-100.238693 (34.304718) with: {'dropout_rate': 0.5, 'weight_constraint': 3}\n",
      "-68.567432 (36.942313) with: {'dropout_rate': 0.5, 'weight_constraint': 4}\n",
      "-123.797374 (76.952068) with: {'dropout_rate': 0.5, 'weight_constraint': 5}\n",
      "-127.158145 (15.468844) with: {'dropout_rate': 0.6, 'weight_constraint': 1}\n",
      "-132.822949 (14.471682) with: {'dropout_rate': 0.6, 'weight_constraint': 2}\n",
      "-140.212848 (19.993588) with: {'dropout_rate': 0.6, 'weight_constraint': 3}\n",
      "-143.615539 (70.554642) with: {'dropout_rate': 0.6, 'weight_constraint': 4}\n",
      "-157.262298 (15.775060) with: {'dropout_rate': 0.6, 'weight_constraint': 5}\n",
      "-259.513081 (13.451793) with: {'dropout_rate': 0.7, 'weight_constraint': 1}\n",
      "-260.393746 (3.150748) with: {'dropout_rate': 0.7, 'weight_constraint': 2}\n",
      "-305.984269 (17.967448) with: {'dropout_rate': 0.7, 'weight_constraint': 3}\n",
      "-326.738490 (58.546771) with: {'dropout_rate': 0.7, 'weight_constraint': 4}\n",
      "-220.381100 (6.784585) with: {'dropout_rate': 0.7, 'weight_constraint': 5}\n",
      "-510.868485 (54.647789) with: {'dropout_rate': 0.8, 'weight_constraint': 1}\n",
      "-554.978886 (58.061797) with: {'dropout_rate': 0.8, 'weight_constraint': 2}\n",
      "-745.792218 (210.914744) with: {'dropout_rate': 0.8, 'weight_constraint': 3}\n",
      "-573.327850 (15.870331) with: {'dropout_rate': 0.8, 'weight_constraint': 4}\n",
      "-568.127766 (71.654055) with: {'dropout_rate': 0.8, 'weight_constraint': 5}\n",
      "-1373.441543 (83.753865) with: {'dropout_rate': 0.9, 'weight_constraint': 1}\n",
      "-1372.890827 (3.645610) with: {'dropout_rate': 0.9, 'weight_constraint': 2}\n",
      "-1471.024297 (68.668036) with: {'dropout_rate': 0.9, 'weight_constraint': 3}\n",
      "-1421.951553 (2.085084) with: {'dropout_rate': 0.9, 'weight_constraint': 4}\n",
      "-1356.618814 (63.787915) with: {'dropout_rate': 0.9, 'weight_constraint': 5}\n"
     ]
    }
   ],
   "source": [
    "from tensorflow.keras.layers import Dropout\n",
    "from tensorflow.python.keras.constraints import maxnorm\n",
    "\n",
    "def create_model(dropout_rate=0.0, weight_constraint=0):\n",
    "    net = Sequential()\n",
    "    net.add(Dense(50, input_dim=feat_num, kernel_initializer='glorot_uniform', activation='softplus', kernel_constraint=maxnorm(weight_constraint)))\n",
    "    net.add(Dropout(dropout_rate))\n",
    "    net.add(Dense(25, kernel_initializer='glorot_uniform', activation='softplus'))\n",
    "    net.add(Dropout(dropout_rate))\n",
    "    net.add(Dense(10, kernel_initializer='glorot_uniform', activation='softplus'))\n",
    "    net.add(Dropout(dropout_rate))\n",
    "    net.add(Dense(1, kernel_initializer='glorot_uniform'))\n",
    "    # compile this model\n",
    "    net.compile(loss='mean_absolute_error', \n",
    "                  optimizer='adam',\n",
    "                  metrics=[r2_keras]\n",
    "                 )\n",
    "    return net\n",
    "\n",
    "# create model\n",
    "model = KerasRegressor(build_fn=create_model, epochs=300, batch_size=150, verbose=0)\n",
    "\n",
    "# define the grid search parameters\n",
    "weight_constraint = [1, 2, 3, 4, 5]\n",
    "dropout_rate = [0.0, 0.1, 0.2, 0.3, 0.4, 0.5, 0.6, 0.7, 0.8, 0.9]\n",
    "param_grid = dict(dropout_rate=dropout_rate, weight_constraint=weight_constraint)\n",
    "grid = GridSearchCV(estimator=model, param_grid=param_grid, n_jobs=-1,scoring='r2',cv=2)\n",
    "grid_result = grid.fit(X_train, y_train)\n",
    "\n",
    "# summarize results\n",
    "print(\"Best: %f using %s\" % (grid_result.best_score_, grid_result.best_params_))\n",
    "means = grid_result.cv_results_['mean_test_score']\n",
    "stds = grid_result.cv_results_['std_test_score']\n",
    "params = grid_result.cv_results_['params']\n",
    "\n",
    "for mean, stdev, param in zip(means, stds, params):\n",
    "    print(\"%f (%f) with: %r\" % (mean, stdev, param))"
   ]
  },
  {
   "cell_type": "markdown",
   "metadata": {},
   "source": [
    "### 2.2.1 Tune the Number of Neurons in the Hidden Layer"
   ]
  },
  {
   "cell_type": "markdown",
   "metadata": {},
   "source": [
    "The number of neurons in a layer is an important parameter to tune. Generally the number of neurons in a layer controls the representational capacity of the network, at least at that point in the topology.\n",
    "\n",
    "Also, generally, a large enough single layer network can approximate any other neural network, at least in theory.\n",
    "\n",
    "In this example, we will look at tuning the number of neurons in a single hidden layer. We will try values from 1 to 30 in steps of 5.\n",
    "\n",
    "A larger network requires more training and at least the batch size and number of epochs should ideally be optimized with the number of neurons.\n",
    "**Result** We can see that the best results were achieved with a network with 5 neurons in the hidden layer with an accuracy of about 71%"
   ]
  },
  {
   "cell_type": "code",
   "execution_count": 13,
   "metadata": {},
   "outputs": [
    {
     "name": "stdout",
     "output_type": "stream",
     "text": [
      "Best: 0.962870 using {'neurons': 100}\n",
      "0.946851 (0.003272) with: {'neurons': 25}\n",
      "0.952416 (0.005549) with: {'neurons': 50}\n",
      "0.955074 (0.000973) with: {'neurons': 75}\n",
      "0.962870 (0.003316) with: {'neurons': 100}\n",
      "0.957021 (0.003070) with: {'neurons': 200}\n"
     ]
    }
   ],
   "source": [
    "def create_model(neurons=50):\n",
    "    net = Sequential()\n",
    "    net.add(Dense(neurons, input_dim=feat_num, kernel_initializer='glorot_uniform', activation='softplus', kernel_constraint=maxnorm(4)))\n",
    "    net.add(Dense(25, kernel_initializer='glorot_uniform', activation='softplus'))\n",
    "    net.add(Dense(10, kernel_initializer='glorot_uniform', activation='softplus'))\n",
    "    net.add(Dense(1, kernel_initializer='glorot_uniform'))\n",
    "    # compile this model\n",
    "    net.compile(loss='mean_absolute_error', \n",
    "                  optimizer='adam',\n",
    "                  metrics=[r2_keras]\n",
    "                 )\n",
    "    return net\n",
    "# create model\n",
    "model = KerasRegressor(build_fn=create_model, epochs=300, batch_size=150, verbose=0)\n",
    "\n",
    "# define the grid search parameters\n",
    "neurons = [25, 50, 75, 100, 200]\n",
    "param_grid = dict(neurons=neurons)\n",
    "grid = GridSearchCV(estimator=model, param_grid=param_grid, n_jobs=-1,scoring='r2',cv=2)\n",
    "grid_result = grid.fit(X_train, y_train)\n",
    "\n",
    "# summarize results\n",
    "print(\"Best: %f using %s\" % (grid_result.best_score_, grid_result.best_params_))\n",
    "means = grid_result.cv_results_['mean_test_score']\n",
    "stds = grid_result.cv_results_['std_test_score']\n",
    "params = grid_result.cv_results_['params']\n",
    "\n",
    "for mean, stdev, param in zip(means, stds, params):\n",
    "    print(\"%f (%f) with: %r\" % (mean, stdev, param))"
   ]
  },
  {
   "cell_type": "markdown",
   "metadata": {},
   "source": [
    "## 2.3.1 Tips for Hyperparameter Optimization\n",
    "\n",
    "\n",
    "**k-fold Cross Validation** You can see that the results from the examples show some variance. A default cross-validation of 3 was used, but perhaps k=5 or k=10 would be more stable. Carefully choose your cross validation configuration to ensure your results are stable.\n",
    "\n",
    "**Review the Whole Grid.** Do not just focus on the best result, review the whole grid of results and look for trends to support configuration decisions.\n",
    "\n",
    "**Parallelize.** Use all your cores if you can, neural networks are slow to train and we often want to try a lot of different parameters. Consider spinning up a lot of AWS instances.\n",
    "Use a Sample of Your Dataset. Because networks are slow to train, try training them on a smaller sample of your training dataset, just to get an idea of general directions of parameters rather than optimal configurations.\n",
    "\n",
    "**Start with Coarse Grids.** Start with coarse-grained grids and zoom into finer grained grids once you can narrow the scope.\n",
    "\n",
    "**Do not Transfer Results.** Results are generally problem specific. Try to avoid favorite configurations on each new problem that you see. It is unlikely that optimal results you discover on one problem will transfer to your next project. Instead look for broader trends like number of layers or relationships between parameters.\n",
    "\n",
    "**Reproducibility is a Problem.** Although we set the seed for the random number generator in NumPy, the results are not 100% reproducible. There is more to reproducibility when grid searching wrapped Keras models than is presented here."
   ]
  }
 ],
 "metadata": {
  "kernelspec": {
   "display_name": "Python 3",
   "language": "python",
   "name": "python3"
  },
  "language_info": {
   "codemirror_mode": {
    "name": "ipython",
    "version": 3
   },
   "file_extension": ".py",
   "mimetype": "text/x-python",
   "name": "python",
   "nbconvert_exporter": "python",
   "pygments_lexer": "ipython3",
   "version": "3.7.6"
  }
 },
 "nbformat": 4,
 "nbformat_minor": 2
}
